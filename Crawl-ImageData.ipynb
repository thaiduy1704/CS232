{
 "cells": [
  {
   "cell_type": "code",
   "execution_count": 3,
   "id": "bdfa0d4e",
   "metadata": {},
   "outputs": [],
   "source": [
    "from icrawler.builtin import GoogleImageCrawler\n",
    "\n",
    "keyword = \"ball\"\n",
    "date = ((2017, 1, 1), (2017, 11, 30))\n",
    "max_num = 20\n",
    "\n",
    "google_crawler = GoogleImageCrawler(\n",
    "    feeder_threads=1,\n",
    "    parser_threads=2,\n",
    "    downloader_threads=4,\n",
    "    storage={'root_dir': 'crawled_data'})\n",
    "\n",
    "\n",
    "filters = dict(\n",
    "    size='large',\n",
    "    color='orange',\n",
    "    license='commercial,modify',\n",
    "    date=date)\n"
   ]
  },
  {
   "cell_type": "code",
   "execution_count": 4,
   "id": "a09e6591",
   "metadata": {},
   "outputs": [
    {
     "name": "stderr",
     "output_type": "stream",
     "text": [
      "2022-04-07 13:34:58,714 - INFO - icrawler.crawler - start crawling...\n",
      "2022-04-07 13:34:58,715 - INFO - icrawler.crawler - starting 1 feeder threads...\n",
      "2022-04-07 13:34:58,716 - INFO - feeder - thread feeder-001 exit\n",
      "2022-04-07 13:34:58,717 - INFO - icrawler.crawler - starting 2 parser threads...\n",
      "2022-04-07 13:34:58,719 - INFO - icrawler.crawler - starting 4 downloader threads...\n",
      "2022-04-07 13:35:00,464 - INFO - parser - parsing result page https://www.google.com/search?q=ball&ijn=0&start=0&tbs=isz%3Al%2Cic%3Aspecific%2Cisc%3Aorange%2Csur%3Afmc%2Ccdr%3A1%2Ccd_min%3A01%2F01%2F2017%2Ccd_max%3A11%2F30%2F2017&tbm=isch\n",
      "2022-04-07 13:35:00,524 - INFO - downloader - skip downloading file 000001.jpg\n",
      "2022-04-07 13:35:00,527 - INFO - downloader - skip downloading file 000002.jpg\n",
      "2022-04-07 13:35:00,529 - INFO - downloader - skip downloading file 000003.jpg\n",
      "2022-04-07 13:35:00,730 - INFO - parser - no more page urls for thread parser-002 to parse\n",
      "2022-04-07 13:35:00,732 - INFO - parser - thread parser-002 exit\n",
      "2022-04-07 13:35:02,267 - INFO - downloader - image #4\thttps://upload.wikimedia.org/wikipedia/commons/thumb/7/72/Basketball_Clipart.svg/2048px-Basketball_Clipart.svg.png\n",
      "2022-04-07 13:35:03,318 - INFO - downloader - image #5\thttps://upload.wikimedia.org/wikipedia/commons/c/c4/Table_tennis_ball.png\n",
      "2022-04-07 13:35:04,298 - INFO - downloader - image #6\thttps://upload.wikimedia.org/wikipedia/commons/thumb/5/5a/Basketball_ball.svg/1957px-Basketball_ball.svg.png\n",
      "2022-04-07 13:35:05,518 - INFO - downloader - image #7\thttps://get.pxhere.com/photo/grass-round-orange-football-circle-greenery-sports-equipment-leaves-leafy-sports-net-ball-balls-games-shapes-basketballs-grasses-spheres-lands-spherical-green-backgrounds-lawns-playgrounds-1113284.jpg\n",
      "2022-04-07 13:35:06,278 - INFO - downloader - image #8\thttps://pixnio.com/free-images/2017/06/23/2017-06-23-07-29-34.jpg\n",
      "2022-04-07 13:35:06,675 - INFO - downloader - image #9\thttps://upload.wikimedia.org/wikipedia/commons/thumb/0/0c/Sport_balls.svg/2048px-Sport_balls.svg.png\n",
      "2022-04-07 13:35:07,805 - INFO - downloader - image #10\thttps://c2.peakpx.com/wallpaper/467/1000/942/ball-football-orange-ball-wallpaper-preview.jpg\n",
      "2022-04-07 13:35:10,507 - INFO - downloader - image #11\thttps://live.staticflickr.com/3445/3302542219_d5cc2beeb3_b.jpg\n",
      "2022-04-07 13:35:11,196 - ERROR - downloader - Response status code 404, file https://upload.wikimedia.org/wikipedia/commons/thumb/1/11/Plastic_ball.jpg\n",
      "2022-04-07 13:35:11,911 - INFO - downloader - image #12\thttps://storage.needpix.com/rsynced_images/ball-305828_1280.png\n",
      "2022-04-07 13:35:12,459 - INFO - downloader - image #13\thttps://get.pxhere.com/photo/play-orange-colorful-yellow-football-sports-equipment-sports-ball-903578.jpg\n",
      "2022-04-07 13:35:13,159 - INFO - downloader - image #14\thttps://c0.wallpaperflare.com/preview/311/31/828/basketball-ball-basket-ball-sports.jpg\n",
      "2022-04-07 13:35:13,499 - INFO - downloader - image #15\thttps://pixnio.com/free-images/2019/09/12/2019-09-12-11-01-25.jpg\n",
      "2022-04-07 13:35:13,941 - ERROR - downloader - Response status code 403, file https://img.rawpixel.com/s3fs-private/rawpixel_images/website_content/fl6889551589-image-kqam28on.jpg\n",
      "2022-04-07 13:35:14,495 - INFO - downloader - image #16\thttps://i.vimeocdn.com/filter/overlay?src0\\u003dhttps%3A%2F%2Fi.vimeocdn.com%2Fvideo%2F686044647-b40dbe5748d0ffc05b22d688d55105269044e98f7f55744a61fd167e2f6fc4e1-d_1280x720\\u0026src1\\u003dhttps%3A%2F%2Ff.vimeocdn.com%2Fimages_v6%2Fshare%2Fplay_icon_overlay.png\n",
      "2022-04-07 13:35:14,870 - INFO - downloader - image #17\thttps://get.pxhere.com/photo/snow-frost-orange-football-sports-equipment-sports-ball-768149.jpg\n",
      "2022-04-07 13:35:15,938 - INFO - downloader - image #18\thttps://p0.pikist.com/photos/383/30/football-american-football-leathercraft-ball-nfl-super-bowl-ball-sports-sport-american.jpg\n",
      "2022-04-07 13:35:17,019 - INFO - downloader - image #19\thttps://live.staticflickr.com/3012/5864197488_3f036d2068_b.jpg\n",
      "2022-04-07 13:35:18,148 - INFO - downloader - image #20\thttps://storage.needpix.com/rsynced_images/basketball-ball.jpg\n",
      "2022-04-07 13:35:21,390 - INFO - downloader - downloaded images reach max num, thread downloader-004 is ready to exit\n",
      "2022-04-07 13:35:21,393 - INFO - downloader - thread downloader-004 exit\n",
      "2022-04-07 13:35:22,414 - INFO - downloader - downloaded images reach max num, thread downloader-003 is ready to exit\n",
      "2022-04-07 13:35:22,414 - INFO - downloader - thread downloader-003 exit\n",
      "2022-04-07 13:35:23,080 - INFO - parser - downloaded image reached max num, thread parser-001 is ready to exit\n",
      "2022-04-07 13:35:23,082 - INFO - parser - thread parser-001 exit\n",
      "2022-04-07 13:35:27,346 - INFO - downloader - downloaded images reach max num, thread downloader-001 is ready to exit\n",
      "2022-04-07 13:35:27,347 - INFO - downloader - thread downloader-001 exit\n",
      "2022-04-07 13:35:31,784 - INFO - downloader - downloaded images reach max num, thread downloader-002 is ready to exit\n",
      "2022-04-07 13:35:31,784 - INFO - downloader - thread downloader-002 exit\n",
      "2022-04-07 13:35:32,077 - INFO - icrawler.crawler - Crawling task done!\n"
     ]
    }
   ],
   "source": [
    "google_crawler.crawl(keyword=keyword, filters=filters, max_num=max_num, file_idx_offset=0)"
   ]
  },
  {
   "cell_type": "code",
   "execution_count": null,
   "id": "1d1ac946",
   "metadata": {},
   "outputs": [],
   "source": []
  }
 ],
 "metadata": {
  "kernelspec": {
   "display_name": "Python 3 (ipykernel)",
   "language": "python",
   "name": "python3"
  },
  "language_info": {
   "codemirror_mode": {
    "name": "ipython",
    "version": 3
   },
   "file_extension": ".py",
   "mimetype": "text/x-python",
   "name": "python",
   "nbconvert_exporter": "python",
   "pygments_lexer": "ipython3",
   "version": "3.9.7"
  }
 },
 "nbformat": 4,
 "nbformat_minor": 5
}
