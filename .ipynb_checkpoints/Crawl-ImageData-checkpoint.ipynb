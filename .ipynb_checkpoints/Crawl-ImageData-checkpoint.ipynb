{
 "cells": [
  {
   "cell_type": "code",
   "execution_count": 1,
   "id": "bdfa0d4e",
   "metadata": {},
   "outputs": [],
   "source": [
    "from icrawler.builtin import GoogleImageCrawler\n",
    "\n",
    "keyword = \"morbius\"\n",
    "date = ((2017, 1, 1), (2017, 11, 30))\n",
    "max_num = 20\n",
    "\n",
    "google_crawler = GoogleImageCrawler(\n",
    "    feeder_threads=1,\n",
    "    parser_threads=2,\n",
    "    downloader_threads=4,\n",
    "    storage={'root_dir': 'crawled_data'})\n",
    "\n",
    "\n",
    "filters = dict(\n",
    "    size='large',\n",
    "    color='orange',\n",
    "    license='commercial,modify',\n",
    "    date=date)\n"
   ]
  },
  {
   "cell_type": "code",
   "execution_count": 2,
   "id": "a09e6591",
   "metadata": {},
   "outputs": [
    {
     "name": "stderr",
     "output_type": "stream",
     "text": [
      "2022-04-07 10:30:54,878 - INFO - icrawler.crawler - start crawling...\n",
      "2022-04-07 10:30:54,881 - INFO - icrawler.crawler - starting 1 feeder threads...\n",
      "2022-04-07 10:30:54,883 - INFO - feeder - thread feeder-001 exit\n",
      "2022-04-07 10:30:54,884 - INFO - icrawler.crawler - starting 2 parser threads...\n",
      "2022-04-07 10:30:54,886 - INFO - icrawler.crawler - starting 4 downloader threads...\n",
      "2022-04-07 10:30:54,895 - ERROR - parser - Exception caught when fetching page https://www.google.com/search?q=morbius&ijn=0&start=0&tbs=isz%3Al%2Cic%3Aspecific%2Cisc%3Aorange%2Csur%3Afmc%2Ccdr%3A1%2Ccd_min%3A01%2F01%2F2017%2Ccd_max%3A11%2F30%2F2017&tbm=isch, error: HTTPSConnectionPool(host='www.google.com', port=443): Max retries exceeded with url: /search?q=morbius&ijn=0&start=0&tbs=isz%3Al%2Cic%3Aspecific%2Cisc%3Aorange%2Csur%3Afmc%2Ccdr%3A1%2Ccd_min%3A01%2F01%2F2017%2Ccd_max%3A11%2F30%2F2017&tbm=isch (Caused by NewConnectionError('<urllib3.connection.HTTPSConnection object at 0x000001DB5EAD5DC0>: Failed to establish a new connection: [Errno 11001] getaddrinfo failed')), remaining retry times: 2\n",
      "2022-04-07 10:30:54,901 - ERROR - parser - Exception caught when fetching page https://www.google.com/search?q=morbius&ijn=0&start=0&tbs=isz%3Al%2Cic%3Aspecific%2Cisc%3Aorange%2Csur%3Afmc%2Ccdr%3A1%2Ccd_min%3A01%2F01%2F2017%2Ccd_max%3A11%2F30%2F2017&tbm=isch, error: HTTPSConnectionPool(host='www.google.com', port=443): Max retries exceeded with url: /search?q=morbius&ijn=0&start=0&tbs=isz%3Al%2Cic%3Aspecific%2Cisc%3Aorange%2Csur%3Afmc%2Ccdr%3A1%2Ccd_min%3A01%2F01%2F2017%2Ccd_max%3A11%2F30%2F2017&tbm=isch (Caused by NewConnectionError('<urllib3.connection.HTTPSConnection object at 0x000001DB5EAD5CA0>: Failed to establish a new connection: [Errno 11001] getaddrinfo failed')), remaining retry times: 1\n",
      "2022-04-07 10:30:54,909 - ERROR - parser - Exception caught when fetching page https://www.google.com/search?q=morbius&ijn=0&start=0&tbs=isz%3Al%2Cic%3Aspecific%2Cisc%3Aorange%2Csur%3Afmc%2Ccdr%3A1%2Ccd_min%3A01%2F01%2F2017%2Ccd_max%3A11%2F30%2F2017&tbm=isch, error: HTTPSConnectionPool(host='www.google.com', port=443): Max retries exceeded with url: /search?q=morbius&ijn=0&start=0&tbs=isz%3Al%2Cic%3Aspecific%2Cisc%3Aorange%2Csur%3Afmc%2Ccdr%3A1%2Ccd_min%3A01%2F01%2F2017%2Ccd_max%3A11%2F30%2F2017&tbm=isch (Caused by NewConnectionError('<urllib3.connection.HTTPSConnection object at 0x000001DB5EAD5D90>: Failed to establish a new connection: [Errno 11001] getaddrinfo failed')), remaining retry times: 0\n",
      "2022-04-07 10:30:56,890 - INFO - parser - no more page urls for thread parser-002 to parse\n",
      "2022-04-07 10:30:56,893 - INFO - parser - thread parser-002 exit\n",
      "2022-04-07 10:30:56,921 - INFO - parser - no more page urls for thread parser-001 to parse\n",
      "2022-04-07 10:30:56,922 - INFO - parser - thread parser-001 exit\n",
      "2022-04-07 10:30:59,890 - INFO - downloader - no more download task for thread downloader-004\n",
      "2022-04-07 10:30:59,891 - INFO - downloader - no more download task for thread downloader-003\n",
      "2022-04-07 10:30:59,891 - INFO - downloader - no more download task for thread downloader-002\n",
      "2022-04-07 10:30:59,891 - INFO - downloader - no more download task for thread downloader-001\n",
      "2022-04-07 10:30:59,891 - INFO - downloader - thread downloader-004 exit\n",
      "2022-04-07 10:30:59,894 - INFO - downloader - thread downloader-003 exit\n",
      "2022-04-07 10:30:59,895 - INFO - downloader - thread downloader-002 exit\n",
      "2022-04-07 10:30:59,896 - INFO - downloader - thread downloader-001 exit\n",
      "2022-04-07 10:30:59,922 - INFO - icrawler.crawler - Crawling task done!\n"
     ]
    }
   ],
   "source": [
    "google_crawler.crawl(keyword=keyword, filters=filters, max_num=max_num, file_idx_offset=0)"
   ]
  },
  {
   "cell_type": "code",
   "execution_count": null,
   "id": "1d1ac946",
   "metadata": {},
   "outputs": [],
   "source": []
  }
 ],
 "metadata": {
  "kernelspec": {
   "display_name": "Python 3 (ipykernel)",
   "language": "python",
   "name": "python3"
  },
  "language_info": {
   "codemirror_mode": {
    "name": "ipython",
    "version": 3
   },
   "file_extension": ".py",
   "mimetype": "text/x-python",
   "name": "python",
   "nbconvert_exporter": "python",
   "pygments_lexer": "ipython3",
   "version": "3.9.7"
  }
 },
 "nbformat": 4,
 "nbformat_minor": 5
}
